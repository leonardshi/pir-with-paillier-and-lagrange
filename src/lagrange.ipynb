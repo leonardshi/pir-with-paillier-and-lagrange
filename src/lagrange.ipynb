{
 "cells": [
  {
   "cell_type": "code",
   "execution_count": null,
   "metadata": {},
   "outputs": [],
   "source": [
    "import numpy as np\n",
    "from scipy.interpolate import lagrange\n",
    "from numpy.polynomial.polynomial import Polynomial\n",
    "import matplotlib.pyplot as plt\n",
    "\n",
    "\n",
    "x = np.array([0, 1, 2, 5, 6])\n",
    "# y = x ** 3\n",
    "y = np.array([10, 17, 53, 3, -2])\n",
    "\n",
    "poly = lagrange(x, y)\n",
    "\n",
    "\n",
    "print(poly)\n",
    "\n",
    "for i in range(0, 7):\n",
    "    print(f\"{i} is: {poly(i)}\")\n",
    "\n",
    "\n",
    "x_new = np.arange(0, 6.1, 0.1)\n",
    "plt.scatter(x, y, label='data')\n",
    "\n",
    "plt.plot(x_new, Polynomial(poly.coef[::-1])(x_new), label='Polynomial')\n",
    "plt.plot(x_new, 1.458*x_new**4 - 17.2*x_new**3+55.89*x_new**2-33.15*x_new + 10, label=r\"$1.458 x^4 - 17.2 x^3 + 55.89 x^2 - 33.15 x + 10$\", linestyle='-.')\n",
    "\n",
    "plt.legend()\n",
    "plt.show()\n",
    "\n"
   ]
  }
 ],
 "metadata": {
  "kernelspec": {
   "display_name": "paillier-test-d3D_Opik",
   "language": "python",
   "name": "python3"
  },
  "language_info": {
   "codemirror_mode": {
    "name": "ipython",
    "version": 3
   },
   "file_extension": ".py",
   "mimetype": "text/x-python",
   "name": "python",
   "nbconvert_exporter": "python",
   "pygments_lexer": "ipython3",
   "version": "3.10.11"
  },
  "orig_nbformat": 4
 },
 "nbformat": 4,
 "nbformat_minor": 2
}
